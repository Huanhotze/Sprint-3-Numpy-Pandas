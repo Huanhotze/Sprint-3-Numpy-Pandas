{
 "cells": [
  {
   "cell_type": "markdown",
   "id": "5818753a",
   "metadata": {
    "id": "5818753a"
   },
   "source": [
    "# Tasca M3 T02"
   ]
  },
  {
   "cell_type": "code",
   "execution_count": 132,
   "id": "3si8SYT-hzuy",
   "metadata": {
    "id": "3si8SYT-hzuy"
   },
   "outputs": [],
   "source": [
    "import numpy as np\n",
    "import pandas as pd\n",
    "import random\n",
    "import math"
   ]
  },
  {
   "cell_type": "markdown",
   "id": "f6dbf2c8",
   "metadata": {
    "id": "f6dbf2c8"
   },
   "source": [
    "## Exercici 1\n",
    "Descarrega el data set Airlines Delay: Airline on-time statistics and delay causes i carrega’l a un Pandas Dataframe. Explora les dades que conté, explica breument quines variables hi ha i queda’t únicament amb les columnes que consideris rellevants. Justifica la teva elecció.\n",
    "\n",
    "\n",
    "[->Airlines Delay: Airline on-time statistics and delay causes](https://www.kaggle.com/datasets/giovamata/airlinedelaycauses)\n",
    "\n",
    "**❗ Important**\n",
    "\n",
    "Redueix la dimensió del dataset de manera aleatòria per tal d'obtenir un dataset de només 200.000 registres. Tots els exercicis s'han de fer amb aquest dataset reduït."
   ]
  },
  {
   "cell_type": "code",
   "execution_count": 133,
   "id": "671949c2",
   "metadata": {
    "colab": {
     "base_uri": "https://localhost:8080/",
     "height": 387
    },
    "id": "671949c2",
    "outputId": "6fc8c41c-071c-4bc0-ced9-ae2ce7885d56"
   },
   "outputs": [
    {
     "name": "stdout",
     "output_type": "stream",
     "text": [
      "Index(['Unnamed: 0', 'Year', 'Month', 'DayofMonth', 'DayOfWeek', 'DepTime',\n",
      "       'CRSDepTime', 'ArrTime', 'CRSArrTime', 'UniqueCarrier', 'FlightNum',\n",
      "       'TailNum', 'ActualElapsedTime', 'CRSElapsedTime', 'AirTime', 'ArrDelay',\n",
      "       'DepDelay', 'Origin', 'Dest', 'Distance', 'TaxiIn', 'TaxiOut',\n",
      "       'Cancelled', 'CancellationCode', 'Diverted', 'CarrierDelay',\n",
      "       'WeatherDelay', 'NASDelay', 'SecurityDelay', 'LateAircraftDelay'],\n",
      "      dtype='object')\n"
     ]
    }
   ],
   "source": [
    "df = pd.read_csv(\"DelayedFlights.csv\").sample(n=200000)\n",
    "print(df.columns)"
   ]
  },
  {
   "cell_type": "markdown",
   "id": "ad2324df",
   "metadata": {},
   "source": [
    "Variable descriptions: Name Description 1 Year 1987-2008 2 Month 1-12 3 DayofMonth 1-31 4 DayOfWeek 1 (Monday) - 7 (Sunday) 5 DepTime actual departure time (local, hhm m) 6 CRSDepTime scheduled departure time (local, hhmm) 7 ArrTime actual arrival time (local, hhmm) 8 CRSArrTime scheduled arrival time (local, hhmm) 9 UniqueCarrier unique carrier code 10 FlightNum flight number 11 TailNum plane tail number 12 ActualElapsedTime in minutes 13 CRSElapsedTime in minutes 14 AirTime in minutes 15 ArrDelay arrival delay, in minutes 16 DepDelay departure delay, in minutes 17 Origin origin IATA airport code 18 Dest des tination IATA airport code 19 Distance in miles 20 TaxiIn taxi in time, in minutes 21 TaxiOut taxi out time in minutes 22 Cancelled was the flight cancelled? 23 CancellationCode reason for cancellation (A = carrier, B = weather, C = NAS, D = security) 24 Diverted 1 = yes, 0 = no 25 CarrierDelay in minutes 26 WeatherDelay in minutes 27 NASDelay in minutes 28 SecurityDelay in minutes 29 LateAircraftDelay in minutes"
   ]
  },
  {
   "cell_type": "markdown",
   "id": "e3a45c84",
   "metadata": {},
   "source": [
    "### Columnas relevantes:\n",
    "> 'Month': Mes del año. \n",
    "\n",
    "> 'DayofMonth': Día del año.\n",
    "\n",
    "> 'DayOfWeek': Día de la semana.\n",
    "\n",
    "> 'UniqueCarrier': Aerolinea que gestiona el vuelo\n",
    "\n",
    "> 'ActualElapsedTime': Tiempo de vuelo real\n",
    "\n",
    "> 'CRSElapsedTime': Tiempo de vuelo estimado\n",
    "\n",
    "> 'AirTime': Tiempo en el aire\n",
    "\n",
    "> 'ArrDelay': Tiempo de retraso\n",
    "\n",
    "> 'DepDelay': Retraso respecto a la salida planificada\n",
    "\n",
    "> 'Origin': Lugar de salida\n",
    "\n",
    "> 'Dest': Lugar de destino\n",
    "\n",
    "\n",
    "\n",
    "\n",
    "\n",
    "\n",
    "\n",
    "### Columnas no relevantes:\n",
    "\n",
    "> 'Year': Año del vuelo. El dataset completo es el del año 2008\n",
    "\n",
    "> 'FlightNum': Numero de vuelo. No aporta valor al analisis.\n",
    "\n",
    "> 'TailNum': Matricula del avión. No aporta valor al analisis. \n",
    "\n",
    "\n",
    "*Las siguientes variables no nos harán falta porque el los tiempos de retraso ya estan calculados, y porque en este caso en concreto, no vamos ha realizar un analisis estadistico respecto a horas de llegada y de salida, ni vamos a tener en cuenta los tiempos de rodaje.*\n",
    "\n",
    "> 'DepTime': Hora de salida\n",
    "\n",
    "> 'CRSDepTime': Hora de salida planificada\n",
    "\n",
    "> 'ArrTime': Hora de llegada\n",
    "\n",
    "> 'CRSArrTime': Hora de llegada planificada\n",
    "\n",
    "> 'TaxiIn': Tiempo de rodaje sobre pista antes de salir.\n",
    "\n",
    "> 'TaxiOut': Tiempo de rodaje al llegar al destino.\n",
    "\n",
    "*No son relevantes para el analisis actual y la solución del ejercicio 2 pero antes de eliminar las columnas 'Cancelled' y 'Diverted' nos aseguraremos de eliminar las filas que donde los vuelos fueron cancelados y desviados*\n",
    "\n",
    "> 'Cancelled': Vuelo cancelado?\n",
    "\n",
    "> 'CancellationCode': Razon de cancelación\n",
    "\n",
    "> 'Diverted': Vuelo desviado?\n",
    "\n",
    "\n",
    "\n",
    "*Los motivos de los retrasos no son relevantes para el analisis actual*\n",
    "\n",
    "> 'CarrierDelay': Retraso por motivos de la aerolinia\n",
    "\n",
    "> 'WeatherDelay': Retraso por motivos meteorológicos\n",
    "\n",
    "> 'NASDelay': Retraso por motivos del National Airspace System\n",
    "\n",
    "> 'SecurityDelay':  Retraso por motivos de seguridad\n",
    "\n",
    "> 'LateAircraftDelay':  Retraso por motivos del vuelo anterior\n",
    "\n"
   ]
  },
  {
   "cell_type": "code",
   "execution_count": 134,
   "id": "38483e0e",
   "metadata": {},
   "outputs": [
    {
     "name": "stdout",
     "output_type": "stream",
     "text": [
      "Index(['Unnamed: 0', 'Month', 'DayofMonth', 'DayOfWeek', 'UniqueCarrier',\n",
      "       'ActualElapsedTime', 'CRSElapsedTime', 'AirTime', 'ArrDelay',\n",
      "       'DepDelay', 'Origin', 'Dest', 'Distance'],\n",
      "      dtype='object')\n"
     ]
    },
    {
     "data": {
      "text/plain": [
       "(199149, 13)"
      ]
     },
     "execution_count": 134,
     "metadata": {},
     "output_type": "execute_result"
    }
   ],
   "source": [
    "# Adaptamos el DataFrame a las columnas relevantes\n",
    "# pero primero eliminamos las filas que 'Cancelled' = 1 y las filas que 'Diverted' = 1\n",
    "\n",
    "df = df[(df.Cancelled == 0)]\n",
    "df = df[(df.Diverted == 0)]\n",
    "#print(df.Cancelled.value_counts())\n",
    "#print(df.Diverted.value_counts())\n",
    "\n",
    "\n",
    "df = df.drop(columns=['Year', 'DepTime', 'CRSDepTime', 'ArrTime', 'CRSArrTime', 'FlightNum', 'TailNum', 'TaxiIn', 'TaxiOut', 'Cancelled', 'CancellationCode', 'Diverted', 'CarrierDelay', 'WeatherDelay', 'NASDelay', 'SecurityDelay', 'LateAircraftDelay'])\n",
    "print(df.columns)\n",
    "df.shape\n"
   ]
  },
  {
   "cell_type": "markdown",
   "id": "6YJAGjdQxznP",
   "metadata": {
    "id": "6YJAGjdQxznP"
   },
   "source": [
    "## Exercici 2\n",
    "Fes un informe complet del dataset:\n",
    "\n",
    "   * Resumeix estadísticament el dataset i les columnes d’interès. Fes una anàlisi estadístic del que consideris rellevant.\n",
    "   * Troba quantes dades faltants hi ha per columna.\n",
    "   * Crea columnes noves (velocitat mitjana del vol, si ha arribat tard o no...).\n",
    "   * Fes una taula de les aerolínies amb més endarreriments acumulats.\n",
    "   * Quins són els vols més llargs? I els més endarrerits? Busca les rutes més llargues i les que acumulen més retards.\n",
    "   * Aporta allò que consideris rellevant.\n",
    "\n"
   ]
  },
  {
   "cell_type": "code",
   "execution_count": 135,
   "id": "DGk_QAblx79-",
   "metadata": {
    "colab": {
     "base_uri": "https://localhost:8080/"
    },
    "id": "DGk_QAblx79-",
    "outputId": "ae4ca0cb-f137-43d0-e264-233422e6c3ad"
   },
   "outputs": [
    {
     "name": "stdout",
     "output_type": "stream",
     "text": [
      "Datos estadisticos mas relevantes:\n",
      "       ActualElapsedTime  CRSElapsedTime        AirTime       ArrDelay  \\\n",
      "count      199149.000000   199149.000000  199149.000000  199149.000000   \n",
      "mean          133.320037      134.227277     108.291977      42.182481   \n",
      "std            71.909741       71.121010      68.501555      56.241019   \n",
      "min            17.000000        2.000000       0.000000     -66.000000   \n",
      "25%            80.000000       82.000000      58.000000       9.000000   \n",
      "50%           116.000000      116.000000      90.000000      25.000000   \n",
      "75%           165.000000      165.000000     137.000000      56.000000   \n",
      "max           790.000000      660.000000     642.000000    1344.000000   \n",
      "\n",
      "            DepDelay       Distance  \n",
      "count  199149.000000  199149.000000  \n",
      "mean       43.089722     765.155617  \n",
      "std        52.772986     572.584155  \n",
      "min         6.000000      11.000000  \n",
      "25%        12.000000     341.000000  \n",
      "50%        24.000000     606.000000  \n",
      "75%        53.000000     998.000000  \n",
      "max      1358.000000    4962.000000  \n",
      "Numero de vuelos por compañia:\n",
      "WN    38799\n",
      "AA    19676\n",
      "MQ    14577\n",
      "UA    14505\n",
      "OO    13581\n",
      "DL    11703\n",
      "XE    10568\n",
      "CO    10445\n",
      "US    10043\n",
      "EV     8546\n",
      "NW     8236\n",
      "FL     7283\n",
      "YV     6976\n",
      "B6     5706\n",
      "OH     5430\n",
      "9E     5262\n",
      "AS     3988\n",
      "F9     2931\n",
      "HA      811\n",
      "AQ       83\n",
      "Name: UniqueCarrier, dtype: int64\n",
      "Matriz de correlacion entre los datos\n",
      "Distancia media recorrida: 765.1556171509774\n",
      "El mes con mas vuelos: 3\n",
      "El día de la semana con menos vuelos: 6\n"
     ]
    }
   ],
   "source": [
    "#Resumeix estadísticament el dataset i les columnes d’interès. Fes una anàlisi estadístic del que consideris rellevant.\n",
    "print(\"Datos estadisticos mas relevantes:\")\n",
    "print(df[['ActualElapsedTime', 'CRSElapsedTime', 'AirTime', 'ArrDelay','DepDelay', 'Distance']].describe())\n",
    "print(\"Numero de vuelos por compañia:\")\n",
    "print(df.UniqueCarrier.value_counts())\n",
    "print(\"Matriz de correlacion entre los datos\")\n",
    "df.corr()\n",
    "print(f\"Distancia media recorrida: {df.Distance.mean()}\")\n",
    "print(f\"El mes con mas vuelos: {df.Month.value_counts().idxmax()}\")\n",
    "print(f\"El día de la semana con menos vuelos: {df.DayOfWeek.value_counts().idxmin()}\")\n"
   ]
  },
  {
   "cell_type": "code",
   "execution_count": 136,
   "id": "dae6fb34",
   "metadata": {},
   "outputs": [
    {
     "name": "stdout",
     "output_type": "stream",
     "text": [
      "El numero de datos null es: 0\n",
      "El numero de datos na es: 0\n"
     ]
    }
   ],
   "source": [
    "#Troba quantes dades faltants hi ha per columna.\n",
    "\n",
    "#print(df.info())\n",
    "print(f\"El numero de datos null es: {df.isnull().sum().sum()}\")\n",
    "print(f\"El numero de datos na es: {df.isna().sum().sum()}\")\n"
   ]
  },
  {
   "cell_type": "code",
   "execution_count": 137,
   "id": "ec4614ca",
   "metadata": {},
   "outputs": [
    {
     "data": {
      "text/plain": [
       "159500     5.216216\n",
       "937196     6.095238\n",
       "1455865    6.864865\n",
       "1593198    6.655172\n",
       "1253527    8.550000\n",
       "Name: v_media, dtype: float64"
      ]
     },
     "execution_count": 137,
     "metadata": {},
     "output_type": "execute_result"
    }
   ],
   "source": [
    "#Crea columnes noves (velocitat mitjana del vol, si ha arribat tard o no...).\n",
    "\n",
    "df = df.drop(df[df['AirTime'] == 0].index)  #Eliminamos las filas con Tiempo de vuelo 0\n",
    "df = df.drop(df[df['Distance'] == 0].index) #Eliminamos las filas con Distancia 0\n",
    "\n",
    "df['v_media'] = df.apply(lambda row: row['Distance'] / row['AirTime'], axis= 1)\n",
    "\n",
    "df.v_media.head()\n"
   ]
  },
  {
   "cell_type": "code",
   "execution_count": 141,
   "id": "343cc368",
   "metadata": {},
   "outputs": [
    {
     "data": {
      "text/html": [
       "<div>\n",
       "<style scoped>\n",
       "    .dataframe tbody tr th:only-of-type {\n",
       "        vertical-align: middle;\n",
       "    }\n",
       "\n",
       "    .dataframe tbody tr th {\n",
       "        vertical-align: top;\n",
       "    }\n",
       "\n",
       "    .dataframe thead th {\n",
       "        text-align: right;\n",
       "    }\n",
       "</style>\n",
       "<table border=\"1\" class=\"dataframe\">\n",
       "  <thead>\n",
       "    <tr style=\"text-align: right;\">\n",
       "      <th></th>\n",
       "      <th>Tarde</th>\n",
       "      <th>ArrDelay</th>\n",
       "    </tr>\n",
       "  </thead>\n",
       "  <tbody>\n",
       "    <tr>\n",
       "      <th>159500</th>\n",
       "      <td>1</td>\n",
       "      <td>2.0</td>\n",
       "    </tr>\n",
       "    <tr>\n",
       "      <th>937196</th>\n",
       "      <td>1</td>\n",
       "      <td>5.0</td>\n",
       "    </tr>\n",
       "    <tr>\n",
       "      <th>1455865</th>\n",
       "      <td>0</td>\n",
       "      <td>0.0</td>\n",
       "    </tr>\n",
       "    <tr>\n",
       "      <th>1593198</th>\n",
       "      <td>1</td>\n",
       "      <td>5.0</td>\n",
       "    </tr>\n",
       "    <tr>\n",
       "      <th>1253527</th>\n",
       "      <td>1</td>\n",
       "      <td>3.0</td>\n",
       "    </tr>\n",
       "  </tbody>\n",
       "</table>\n",
       "</div>"
      ],
      "text/plain": [
       "         Tarde  ArrDelay\n",
       "159500       1       2.0\n",
       "937196       1       5.0\n",
       "1455865      0       0.0\n",
       "1593198      1       5.0\n",
       "1253527      1       3.0"
      ]
     },
     "execution_count": 141,
     "metadata": {},
     "output_type": "execute_result"
    }
   ],
   "source": [
    "df['Tarde'] = df['ArrDelay'].apply(lambda x: 1 if x > 0 else 0)\n",
    "df[['Tarde','ArrDelay']].head()\n"
   ]
  },
  {
   "cell_type": "code",
   "execution_count": 147,
   "id": "1655fab8",
   "metadata": {},
   "outputs": [
    {
     "name": "stdout",
     "output_type": "stream",
     "text": [
      "Las 10 compañias que más retrasos acumulan son las siguientes:\n",
      "   UniqueCarrier  Retraso\n",
      "17            WN  1160309\n",
      "1             AA   906956\n",
      "15            UA   686829\n",
      "11            MQ   659297\n",
      "14            OO   612021\n",
      "18            XE   540638\n",
      "6             DL   468195\n",
      "5             CO   427262\n",
      "7             EV   406279\n",
      "19            YV   383780\n"
     ]
    }
   ],
   "source": [
    "# Fes una taula de les aerolínies amb més endarreriments acumulats.\n",
    "\n",
    "\n",
    "df_retrasos = df.groupby(['UniqueCarrier'])['ArrDelay'].sum().reset_index(name = \"Retraso\")\n",
    "\n",
    "df_retrasos.Retraso = df_retrasos.Retraso.astype(int) \n",
    "\n",
    "print(\"Las 10 compañias que más retrasos acumulan son las siguientes:\")\n",
    "print(df_retrasos.sort_values('Retraso', ascending=False).iloc[:10])\n",
    "\n"
   ]
  },
  {
   "cell_type": "code",
   "execution_count": 144,
   "id": "a98590e9",
   "metadata": {},
   "outputs": [
    {
     "name": "stdout",
     "output_type": "stream",
     "text": [
      "Las 10 rutas mas largas son:\n",
      "     Origin Dest  Distance\n",
      "1892    HNL  EWR      4962\n",
      "1615    EWR  HNL      4962\n",
      "1889    HNL  ATL      4502\n",
      "189     ATL  HNL      4502\n",
      "1902    HNL  ORD      4243\n",
      "3460    ORD  HNL      4243\n",
      "2341    KOA  ORD      4213\n",
      "3497    ORD  OGG      4184\n",
      "1899    HNL  MSP      3972\n",
      "3158    MSP  HNL      3972\n",
      "Las 10 rutas con mas retraso acumulado son:\n",
      "     Origin Dest  Tot_Retraso\n",
      "2513    LAX  SFO      24623.0\n",
      "3475    ORD  LGA      23296.0\n",
      "2586    LGA  ORD      22825.0\n",
      "169     ATL  EWR      20619.0\n",
      "1638    EWR  ORD      20580.0\n",
      "3446    ORD  EWR      20198.0\n",
      "208     ATL  LGA      19790.0\n",
      "4272    SFO  LAX      18972.0\n",
      "832     CLT  EWR      18271.0\n",
      "2549    LGA  ATL      17718.0\n"
     ]
    }
   ],
   "source": [
    "#Quins són els vols més llargs? I els més endarrerits? Busca les rutes més llargues i les que acumulen més retards.\n",
    "\n",
    "df_rutas = df[['Origin', 'Dest', 'Distance', 'ArrDelay']]\n",
    "\n",
    "df_rutas_distancia = df_rutas.groupby(['Origin', 'Dest'])['Distance'].max().reset_index(name = \"Distance\")\n",
    "print(\"Las 10 rutas mas largas son:\")\n",
    "print(df_rutas_distancia.sort_values('Distance', ascending=False).iloc[:10])\n",
    "\n",
    "df_rutas_retraso = df_rutas.groupby(['Origin', 'Dest'])['ArrDelay'].sum().reset_index(name = \"Tot_Retraso\")\n",
    "print(\"Las 10 rutas con mas retraso acumulado son:\")\n",
    "print(df_rutas_retraso.sort_values('Tot_Retraso', ascending=False).iloc[:10])\n",
    "\n",
    "\n",
    "\n"
   ]
  },
  {
   "cell_type": "markdown",
   "id": "8e0d1374",
   "metadata": {
    "id": "8e0d1374"
   },
   "source": [
    "## Exercici 3\n",
    "Exporta el dataset net i amb les noves columnes a Excel.\n"
   ]
  },
  {
   "cell_type": "code",
   "execution_count": 148,
   "id": "1f5c8258",
   "metadata": {
    "colab": {
     "base_uri": "https://localhost:8080/"
    },
    "id": "1f5c8258",
    "outputId": "9551337b-e13e-4f51-b5cb-b857f7667ffb"
   },
   "outputs": [
    {
     "data": {
      "text/html": [
       "<div>\n",
       "<style scoped>\n",
       "    .dataframe tbody tr th:only-of-type {\n",
       "        vertical-align: middle;\n",
       "    }\n",
       "\n",
       "    .dataframe tbody tr th {\n",
       "        vertical-align: top;\n",
       "    }\n",
       "\n",
       "    .dataframe thead th {\n",
       "        text-align: right;\n",
       "    }\n",
       "</style>\n",
       "<table border=\"1\" class=\"dataframe\">\n",
       "  <thead>\n",
       "    <tr style=\"text-align: right;\">\n",
       "      <th></th>\n",
       "      <th>Unnamed: 0</th>\n",
       "      <th>Month</th>\n",
       "      <th>DayofMonth</th>\n",
       "      <th>DayOfWeek</th>\n",
       "      <th>UniqueCarrier</th>\n",
       "      <th>ActualElapsedTime</th>\n",
       "      <th>CRSElapsedTime</th>\n",
       "      <th>AirTime</th>\n",
       "      <th>ArrDelay</th>\n",
       "      <th>DepDelay</th>\n",
       "      <th>Origin</th>\n",
       "      <th>Dest</th>\n",
       "      <th>Distance</th>\n",
       "      <th>v_media</th>\n",
       "      <th>Tarde</th>\n",
       "    </tr>\n",
       "  </thead>\n",
       "  <tbody>\n",
       "    <tr>\n",
       "      <th>159500</th>\n",
       "      <td>517747</td>\n",
       "      <td>1</td>\n",
       "      <td>15</td>\n",
       "      <td>2</td>\n",
       "      <td>AA</td>\n",
       "      <td>52.0</td>\n",
       "      <td>65.0</td>\n",
       "      <td>37.0</td>\n",
       "      <td>2.0</td>\n",
       "      <td>15.0</td>\n",
       "      <td>MCO</td>\n",
       "      <td>MIA</td>\n",
       "      <td>193</td>\n",
       "      <td>5.216216</td>\n",
       "      <td>1</td>\n",
       "    </tr>\n",
       "    <tr>\n",
       "      <th>937196</th>\n",
       "      <td>3145413</td>\n",
       "      <td>6</td>\n",
       "      <td>28</td>\n",
       "      <td>6</td>\n",
       "      <td>YV</td>\n",
       "      <td>65.0</td>\n",
       "      <td>71.0</td>\n",
       "      <td>42.0</td>\n",
       "      <td>5.0</td>\n",
       "      <td>11.0</td>\n",
       "      <td>CLT</td>\n",
       "      <td>RIC</td>\n",
       "      <td>256</td>\n",
       "      <td>6.095238</td>\n",
       "      <td>1</td>\n",
       "    </tr>\n",
       "    <tr>\n",
       "      <th>1455865</th>\n",
       "      <td>4987587</td>\n",
       "      <td>9</td>\n",
       "      <td>18</td>\n",
       "      <td>4</td>\n",
       "      <td>OH</td>\n",
       "      <td>115.0</td>\n",
       "      <td>125.0</td>\n",
       "      <td>74.0</td>\n",
       "      <td>0.0</td>\n",
       "      <td>10.0</td>\n",
       "      <td>DTW</td>\n",
       "      <td>JFK</td>\n",
       "      <td>508</td>\n",
       "      <td>6.864865</td>\n",
       "      <td>0</td>\n",
       "    </tr>\n",
       "    <tr>\n",
       "      <th>1593198</th>\n",
       "      <td>5748626</td>\n",
       "      <td>10</td>\n",
       "      <td>22</td>\n",
       "      <td>3</td>\n",
       "      <td>MQ</td>\n",
       "      <td>135.0</td>\n",
       "      <td>140.0</td>\n",
       "      <td>116.0</td>\n",
       "      <td>5.0</td>\n",
       "      <td>10.0</td>\n",
       "      <td>DFW</td>\n",
       "      <td>GJT</td>\n",
       "      <td>772</td>\n",
       "      <td>6.655172</td>\n",
       "      <td>1</td>\n",
       "    </tr>\n",
       "    <tr>\n",
       "      <th>1253527</th>\n",
       "      <td>4194209</td>\n",
       "      <td>7</td>\n",
       "      <td>3</td>\n",
       "      <td>4</td>\n",
       "      <td>CO</td>\n",
       "      <td>321.0</td>\n",
       "      <td>326.0</td>\n",
       "      <td>300.0</td>\n",
       "      <td>3.0</td>\n",
       "      <td>8.0</td>\n",
       "      <td>SFO</td>\n",
       "      <td>EWR</td>\n",
       "      <td>2565</td>\n",
       "      <td>8.550000</td>\n",
       "      <td>1</td>\n",
       "    </tr>\n",
       "  </tbody>\n",
       "</table>\n",
       "</div>"
      ],
      "text/plain": [
       "         Unnamed: 0  Month  DayofMonth  DayOfWeek UniqueCarrier  \\\n",
       "159500       517747      1          15          2            AA   \n",
       "937196      3145413      6          28          6            YV   \n",
       "1455865     4987587      9          18          4            OH   \n",
       "1593198     5748626     10          22          3            MQ   \n",
       "1253527     4194209      7           3          4            CO   \n",
       "\n",
       "         ActualElapsedTime  CRSElapsedTime  AirTime  ArrDelay  DepDelay  \\\n",
       "159500                52.0            65.0     37.0       2.0      15.0   \n",
       "937196                65.0            71.0     42.0       5.0      11.0   \n",
       "1455865              115.0           125.0     74.0       0.0      10.0   \n",
       "1593198              135.0           140.0    116.0       5.0      10.0   \n",
       "1253527              321.0           326.0    300.0       3.0       8.0   \n",
       "\n",
       "        Origin Dest  Distance   v_media  Tarde  \n",
       "159500     MCO  MIA       193  5.216216      1  \n",
       "937196     CLT  RIC       256  6.095238      1  \n",
       "1455865    DTW  JFK       508  6.864865      0  \n",
       "1593198    DFW  GJT       772  6.655172      1  \n",
       "1253527    SFO  EWR      2565  8.550000      1  "
      ]
     },
     "execution_count": 148,
     "metadata": {},
     "output_type": "execute_result"
    }
   ],
   "source": [
    "df.to_excel(\"avioncitos.xlsx\")\n",
    "df.head()"
   ]
  },
  {
   "cell_type": "markdown",
   "id": "HSdaWBE7nF-5",
   "metadata": {
    "id": "HSdaWBE7nF-5"
   },
   "source": [
    "<center><src=\"data:image/png;base64,iVBORw0KGgoAAAANSUhEUgAAAU8AAACWCAMAAABpVfqTAAABI1BMVEX////+/v4AAAC+vr7W1tZcXFz7+/vGxsb///38//////z6/////f/09PTc3Nz///m0tLSUlJR8fHzv7+8rKyvm5uaoqKiamppNTU3Q0NDq6ur///aDg4M+Pj6QkJDi4uJmZmbygwDxhwB1dXVdXV1HR0ewsLAeHh6kpKT/9uf63rjxp17mnEn4hABvb28TExM4ODj969f45cnxpVrpfwDvtWz16MD//+7qiSXviBr12KnvlkL8ig/qvX769t7wkjfzr2z1zZgbGxv2//Pv0ariq2XftXPrvIz68un037bvuYHijR7ioVHlhBnzx4r438L69tbxtH/pli/wtmL7iyXrw5rfkTv107Lxo2PtjADw5LztwXrqyIn83rDunEr2zq33384dpfBpAAAX3UlEQVR4nO1dCUPbuNaVDDiW5WAg7GazoYChKcQsiSENSScMENqGMqUd3sLr//8V37myDSEEaBlD5+v4tIXE0Xp0N10JyliGDH9j8EJfhrRAhPb97BX9dZDTOfHJM6QC8Kln8pkicqAz4zM9ZHymi4zPdJHxmS4yPtNFxme6yPhMFxmf6SLjM138FT4N0zS+oxQTpvEd5Xq3Lrofc/XIoB0yi748I6h5Qw3+eyfwVD5psoYhvmNGtK2VP8inQa2bPVvn6JYbhmmjd9v40YZ/EJzb+IdxfHc3T5dPJSKG+TifQnDLemLrxp3WBeSWG/QhFzaXP9ruD8I2LRudie9WsKfyiZWzbdO0TXFHI7tL2o6UjxW607pJzfdqHdIppCGFLm0pUOLHGv5RcEv8Jiyo/PfalSfrO0dfFoned8gnBOnHWoc4xK13CzYmBhalMGzu+Mc1+3kF1OD2b0I3Ydy+VyCewidX1rnW3ms0AyOSIHogSCvIeoMMFn0h1F7vByJ6jWc0Mhgkw/fJDCrDpOyhMPi12ScTUg72/tNsO0Iy1WDcB/EsRLm5vl+vBYdh5bxlRxaVeEabVDUpTDIVv6beI69y7CvYanBG/NeIBhyrdCTxGCYeCFgV6/erI1uQInyP0j+BT8mlKcsfQ88rFrdrlqksHbkIYROlJsc3AZtjSQivMHzXXaOBMRMfGrZVPnYka2+HJXImnIwhFIpsoUABIUx8t5y9A5daP2GGJQwL1SNTDXtqWLLlegenJxWvUj9tScO0JCYtLBZsXwZogroxJZqF3TMZrZNt1NA6hsKd965bxJ89waXK/9qCk/ThizAkp26EKakwDKegHoUjttw6FeC06o9y+gQ+DS6l84frrTdPGr87gnpRcmdaHHZNCMzFhryRJgr07rveGsIBiK+FYRqNA4yOnbgfStBVuHCUtFEYzDOyCzb4lOLjtnd18d/GoS8wD1pBg9ZJWWFh1sLwo11ueQc1u5zHU+KBobf2tvtNmlRG2qZhEZsozm3pr5+WUB182uvefuttq1XC+qrGpEHrzMiDkx9nRC5m4pB8MkWwLba8nSTQMKJYLWU+LdNouuGRYUhpQwiNchD45Achd37JNx2D1QLbsY+DoGabuuJTmse7KIQS617ddCw7ODMcS9TOAtBqWDain9puzYaIYhJGELp1B62XORySH+z6pHf06qwMQfqX651JVvfWES7ZDnhj5dpuUJNOafc3fFwOdmtYW3Bi14KSY+r2rlc8E7TE4NP9BIVW5Dq1ICiDLzg352xXgkknCBxpH5d8tAtniEV24EvFVnWHmbKGZk1l3dLmEypS3i++LkvoGSZaPqq4YfhJd8zDg51z9+Ls/OqP8LQsGpVisdIAC8SnfxUWvfM96YSX4efwtVP6XAmkuffFc8P1mpTHH87rn93wsEwtmk69eHoGsbOkaZc/eZ5XaZlwPzsh9LzNLrwQqHz2KpXKefjRsWT7PHSLX3jtS+WbLZsVbzs8srl/elAP3bB+LC/C8PNp2Iz49D6RfllcBq/dbXf/RPCgcl7HeFuVrYPi9v7Ja++ysibNUngQcHZUqTtsvVhn5daH7e3iYdnk6fOJxS2FXhPOF2yasGbhx1bofpL2YTX0Dr6efah64evyVy/8+LG4vcaOFZ+Vna9/Vl3fPjz4fH7YsmteeML2PHencVD94oDz0Hv/p1dskOgYzn61ZZLhhO079MJGyyseCdFyK41W9YPffB2G9Z3WuXews3NePLLliefuN452YAe8NdHGaBqe17Scy6q3tRN6LYMq/PG+TabUfl+tk1JzeVZxzxtbbhiIWnjphu+dt271fCeshmGr4p37slQMdy2xU9yySaMM2bpqfgyLTVtn7MFY5Ql8wpTvupffYNBNqGotdMHCkXtZo7k3TVHzPn85E+Vzr8FYq7gD+xmuWbIMl12BH2B1zMhgJTc8sa88TC4oXn4Fn8WWbb+ubtmQHF6rXF5IOCm4kMDzvjK7Va34foXM8OtiQ/7LC2uCrbt1hhotZuxXX5cFsxnxya68t4x99P5k5bC6bhrr7r4jdkOvRHEb8RmGB+cH5744KlaOzfJBsY5lqO7XbPYWrcqP1bDJ1rztQGCAJWH8Xtwy2RYmQYGwUa+ukwQ9SM5T4iXJ/uVdBg4FO4Zoeh+gsJhLkx16+2Xo9wevYcuz7Wrj5OTfxX3pF8l+OsF/PoVEMewe8Vn0Ap/mb5j7xR3he+5/Bfu3d+Xo8EZlNObQJsgQDbfimDLw3GDNC/fa7T+KLfgyzJz4FIrP2qXbpD0M+Cy2/Yr7n/bJUXhpOEVvj5kN98CRAfHJIz6r4UGl8qXGrqo72BB8rB44GPoeBOOtt+VA1NE0JKStBsjY71gT+PcdeLizZuu1d2UqJ58un9ImsVnD8NC6vCge1DjsYrXBDqt19FX74AYIiMLQc4te8cAm+yn997CCnxWfVeKzhuFCpUpwDnW3LmtUBmJ1hYATHuW0ekR6Dwl9W913TLNWKbb/54buNho8tEFPJ5+Bi7c2on/wGQTeZ48iraJRhtIzs+mBz90OPr2WYwpHmmHYMCyr6YXH4DMwpXhbhPCh+rGoVdwTKJBXkqKl+IQ/shthMax4V7bFUucTNPqV4g68ETyl+F+xAqEsk9YfwnCb1hmmZRq7Yfj1WykIAkl8ih2v0nbOXeLTTeSz5IUB4rn3xTr5rLYwjsAnYihmvy9elcmlG4wECNL/odr+6h2sobmgJE7c23xCeKUg+fzgthFL7X37FpQCUXa9PSFJPkUnn8VPpLuSVdyPWLk9r+LQMiBiflvcEhZMiY/VQ8CMwSH4+qT4xFyxhq1yo7hvs2fhU+5UoauUTeNt1wuEuQYDYBxC9AQMKrgRUGYYSyERS7uXbee112J2xY3lk4LSywAWEZYXxRvQd69NZu8Ksb3NwYJ3RPstxr66lxCTPc8rBV5YogBUyC5998NqC3M0wad34lCb1K9lu5BPeeEddNhPofhEyA6t8K6w51mHxSb1xpO37rqpTAkjPkVJaeD76rrBSN8b3kEZnvcKfNoPkvOU+BNBYnBarTRKx+2m6cMd1Gpb3jniJbdu20K5WRsjPw0cHzvGYy9sY+LrNlhpUNx4UDqW8O+Bue5VgnK9ehoIFQOwIw/OA6G4rMHMtQI/aJZrleqf5WAfX/x9byuw/RPbPAkvS8JEJGmXsUw23ER44ZcCqfzRTnhwUva/+WYZ9pYL4sEMwuKF78B62M57LIBlcgdmP7xwmvhAQJ/aCFbfeusm/+ae1iR5PumfVrdqzfBz5N+p+G7toLoPQX44d/cUf2QL6ax9KWK/6cIXnSDIqBQra7Y4RHRhibNtt40NSnDuuufh9p6sbbtrkBPvNCy6H5loup57xUpUyN9H4OpeXjB5TD6LvYUztrBBkXaw7nowvyiDKZ9eFg9KQq4hmqy424GERpxZkM8/mHHltsA+hnLpvi6rjvyrolu53G4I03X3pNGANTIRf3nbbSgqrfKOg80F5+VDzz1HvOaI2vZ2W0oG+ynttnsJ+xlC380W4l4vLF6ZEvtNiQARQ/W+OPYj+bSn8EkbTu7v7Wyt7zRNi5WO1tePSpZttfdgBJnfbPrcMqXfWN+qH/ncb+4dS77359bFWjPg0m6+f99gx83mMexiY2erFWCLYzf3fGyLml/xWrXurKH1+oUvRNBarzd82mCjny28FH5j75jJk+YJN7/ufcPm1m/U1+tNHrVJbzAcw95rlkwzaDYRLvutrUNEP9ggrDXbBqNdne2c7KAS1s9vNmrY8wZ7kAKMVRcOJoBlvcDHQXPNMdb2Tmy5++nPVrvZtLG3T9t+CspNKFNGoZOIMkzYm1GcK22V4eGUUoh2yOqLnRgdROn0zSQ7FCkOfAOnbLwQptpG0z/TjPfJcd6RsiTYvasMET0RlLQjw4NdO1yRUEkh6peyIeTRGFw4U42pLAw1hZCIkh1q+IKinmj/LqIBwU4xysygOJ2yYGMm46QZdsWMkjSUpzAx7UcSIk+xn2qHYZBPtWnu1IuwLdukhA2ooCQNKIfqEw82JX+orLDJY3PKXVqUuYHroaSNpJSDTXNXhVTmjDJJknilv7RslsrvqLQV5yrrBykWwrIo7wJyJC2RQTRRXkMyy5KU7yKRpPLYyhn0KfYIqEIJaVMlBAQMKVqWlpQWzAwlVS2i2oJTxNLQoYpFy0gscpX6Mh7L2j2NT/XFpgMelSS0VNJQRqlP2klQKA5ZxPgo16mOJ7hKQjFaX0or0DcIpK0OiqieQbk1fInyOCQL1CK9szgaxRdDJalEdE5HGU/akwqH3qhzM5MWRXDVkkqsckbJIpVBklTeUMM1VbqV9jlqTMJWjy0l3yrZB5nEiKNUKsXYJlO5T6pvRF2ny2eGB5DxmS4yPtNFxme6yPhMFxmf6SLjM11kfKaLjM90kfGZLjI+00XGZ7rI+EwXGZ/pIuMzXWR8pouMz3SR8ZkuMj7TRcZnusj4TBcZn+ki4zNdZHymi4zPdPHz+Ix+3vr63T0lOqH3eEaPbxrh7IGf4X7mn+2O8NP4xOxm3jA+ODw8h78TdwjNvxtXBHbUYH3aGGNDMwojuZvnEytRSa6zxQG8n4mLFG4qr67ovzafjI1p84z1a6PDc3M9+GSrWuH2M65rw6B4WRudGxkZWbzhU2faTPSKTWmDoG1SW5qhIh18UpFfnM+ZSaJiQptS7/Ay0dzo8piuTXRVGNfySqzjGiwurD7RiS3OXpF4Mn10Re8socdFXgA/kU9tWTH3RptW/OVnhhmfXuwbJkHKLY6xkdkuiXq1pH7ZA1vSBqNPuKoysswKWk49KWhD8fek7iDkmPORVZbXct0DeA68PJ96jvX3Y7YFrV/Ro6+sRHK5qvVBU/UJPGeTG5wNxRLF43+6tqoWgLNNCKrCOPgb0KDW2pwqktOmIzmd1xbi3rRJBiuwrIq8AF6ez7w2O6otQnIiUjib1gaY0vdJbRVClNdGwPUwmdZpxmKfRBI8rfXFr3VtNG5sQKNV4GzgDYv0Ph+XziXWYgatzNDKoMgL4GfwOQ5HnQef6i28s+KJk8Qqp7GggZcx8leDVGB1aWFBSd90rLF6XIMq5TfAPsT7jbKbEPFEpF9psTOaB7FYPk6e/wXwE/QdXBUw20HlXcglR84dL0dBNYlWbgCuKpZPNjU0NJRj1/KJYuOkvlGsCdWfID5v5DP6NbGTUV16ObvZDwfGf1n51BEmTYPPaWU/Qe2bJLSf0RbwGWfagNLhoQ6PTCXysJ9kFoboOz1jURVyTrH97CP7yUnE51kS2w9pAytU/1e1nwmfkX/XNzf1PKCTM1nl2iZ4GNZU+DOyScWvfzOx8u80Ym0xPz02Nk0CCNnmZEsLagFIhIeowqLWNz09Nj1WIB7zGikAz2svMsufYT/nYRoLKv7UwU6ECZbfmCUBmyDDOaOcTneQr7SZaQk409/NEr/DSXAZxZ+8PymxGAdkBWUk9F8zntfndZ7HP3iKebBWKOTxp5Dn+EbqnycHNcaIgEJXzTxUFnVjFOgX5+vQf7y63h/lyIjoSREypqi1qNT9190fRRtptX+/maMKLPFFh4zS1PMr43cIGELo390UVVtduY6q4Og7quHj/ICKSVdXXmR79HPzdT01cFxbUK7k7vxBdq8aXNc7KOwqoW+oKIu/iLKzv2P+szD1eJkfQC6fanOPdvcgn0r/olePtKNP9aeFwdRaSr+1Wxj7YT6Jx/GZvjcUQD+M/OTAPw2TQ0/gk7E5ijzGH+PzH4keSvs4n4iul+aT0GV8IsJct6zzf+R/qfIUPudot5IsxcBohI3+bj5fJhz5W6FXzPA9fM5en2Xd75Wu9yT/IHSfH3wvn69ufuR7MHLjU1PdUcjQ3yrmeiE8UT47+NxM1qY7SJybp/b54NDQ0HKvOCItcJW/G5q+9VAnvEDAzvPU0fW7p+r7DZ+8kKD7KHchanyIuH7eg5oZ6mLwVueL9Gj63hqpYYr6eTjt933285rP+64KsFfRiyFtkenP6Zo47S5Hu/gc0eamcs/vEHk+N7VIJzEP4HE+V1+9eYxPTHKBxfI50vm8R9H7mrkTfdx6f/27+9XXu3wO3S57F/mxnnxT/mmsq6OO1/N5On0ey98cCk78VT6Thh4CZ/2xFtzmkxXindn8zfh531xfr+AKM5ufQ5g7HVeZ7uST68P9CE9yw5EpeZhPNrwy+m5jYyNO4yvMjy68y/dcRTY7ie+zo1GVwc65Qutm0fXmm47Hf53P3nFrF4biCXXxmWSLl26GWBiZ2pjq0SLNjE7MRuIqy50z09nIBqouoiq9fYTPfm10Kgd0+EWs4ECup7oMKcO7qr1RVfL8Vq90ZKXn2cRcenw+BEqX5NV599w879D36DV5qEUEAnp8c4iTQyTRHOm1e41vJ7H8ykqe6/Fp240tzkcphBlV9SE+qWau02no8emUNs96YTM6pru+dMJVrzyO1hde0YOFm+aflU/GljeizPhCvH6xfM4Pj81N6FwdNI7Fa6suMfRP0UWa3gGVOtSkM6DYt7H8FPRMn5qPEsX0lEdVe/O5Org80x+t5bKWJKNH6aLIG+zw5t6wXhY0PnnS2VLC9yAY4/q7pfiAD/KSG70p/6x8FiZzc6QuOltgnfKJMY1OaOqZPrpxfZdjGZoI+gcmeiYB4/MijsoL8aMB0DenBIf0Mq+qEnrzOamNLESkQF+SoG0CRfPaGzY+yTp7ve45F603ln42uXTyaoPOTaIDvnlUn1rp2Lw8r74zNVawlpxtX/M5hqVVJQrvZuN5DGj5lU3G3sxdX/qIvsZzm46nEKmrrq40aZPTier2o8mF+PU9fC4ytqHkkm7caUmrMxhJf5+2mFzIi3vVkwEX4kEMJidMy1jBxbg60/rGtKWR1Zeyn3RXAyIxmNiraz51BL/qib4ZLy/Y0cBJbnRyM3G80325XF9yL3Ne3TqIai9GZoz82WZctqBNTW1ObioBvYdPfDYa8ckGrsP7AY0tvENQNDaW+PcJjGMjIWiZblWodYeZUYuoDvDiAz7ik4+NzU+/DJ+UpdNJO/uSFm7zSfp+rUZE/UgiHdGjwdnJyVfJNOcjj9Bxl4tcfnxxjqnrDwnu4XM44lPdZxhMAlpobnLwHHekjj+TN0PRDQgs9iZPgpkRVIk7KCS3KV+GTxrjMiY6k8zvmk+u+GTq4gtPxvYOw+y8mBkPNSEsuZMwcP15n/YuOZec6thQPswngqubz7m+sXIzhLsYjG756aOjN3agX1uZZUmvXb7z2fnU2cokdu/x29vySV7zhoVJje7FdcbLt//Lssh+5emCYfx5QVsYTDSv8z5sbz7JWc0uR5dwlseB1SiU05YeuDqvK2+e39SGVZVoSWevw4M5rav8c/NJtbWpheR1Vzw/o628mgVG5ylkzkH5Zu5UjwFWRiNHMqswqYKtPLjKKTs9uXRT9pF4fmlgMoL6MPdQfgbkkykdm4yqvJpjkcLnk6C1O/vxAnxis7aYvOziU+XWKIWXVxlSKPDyfZJCDpZsZVyD8qmFZXio/HIu8r4drDzIZ9dmls9usvvB+TTJ4q0bEDDgc9EVNbrD31XhJfjM3eyUic97fwgm2fT0BsLujc6LCXH6Q32CnfRkR3jVi89OTjoamB64k6rtGlLfyK08Jgz/Bmx2FF8s9rHbn7Hh5+cTXvhadobuV+jHkb/37gHXc4WOI5ee8tl7oWYg1z+YyRt9NXazdJ2tEu8vIJ8wUdfTG9JGFyafesGD3yu8nN+cfo0PLHTnk0e0mb6h3muh64/lY7vSPQidrk/LbqeCEKMO9S28gL539JhbWlgaSPfCTDfGB5YWBjqjmJfKz/Po0PGv5ud/pMfHE3tpdXFLbl7o/Ijrj3eUMp/8jv6kjbt9XPus58bDPx4a4e93v+7/NzI+00XGZ7rI+EwXGZ/pIuMzXWR8pouMz3SR8ZkuMj7TRcZnusj4TBcZn+ki4zNdZHymi4zPdJHxmS4yPtNFxme6yPhMFxmf6SLjM11kfKaLjM90kfGZLjI+00XGZ7rI+EwXGZ/pIuMzXWR8pouMz3SR8ZkuMj7TRcZnusj4TBcZn+ki4zNdZHymi4zPdJHLc8an+jKkhNVbv7w9w1/Gi/yvf/8o/B9A0o5IEydY4QAAAABJRU5ErkJggg==\"></center>\n",
    " "
   ]
  }
 ],
 "metadata": {
  "colab": {
   "collapsed_sections": [],
   "name": "Tasca M3 T02.ipynb",
   "provenance": []
  },
  "kernelspec": {
   "display_name": "Python 3 (ipykernel)",
   "language": "python",
   "name": "python3"
  },
  "language_info": {
   "codemirror_mode": {
    "name": "ipython",
    "version": 3
   },
   "file_extension": ".py",
   "mimetype": "text/x-python",
   "name": "python",
   "nbconvert_exporter": "python",
   "pygments_lexer": "ipython3",
   "version": "3.9.12"
  }
 },
 "nbformat": 4,
 "nbformat_minor": 5
}
